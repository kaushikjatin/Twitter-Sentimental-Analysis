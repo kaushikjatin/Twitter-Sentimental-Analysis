{
 "cells": [
  {
   "cell_type": "code",
   "execution_count": 1,
   "metadata": {},
   "outputs": [
    {
     "data": {
      "text/html": [
       "<div>\n",
       "<style scoped>\n",
       "    .dataframe tbody tr th:only-of-type {\n",
       "        vertical-align: middle;\n",
       "    }\n",
       "\n",
       "    .dataframe tbody tr th {\n",
       "        vertical-align: top;\n",
       "    }\n",
       "\n",
       "    .dataframe thead th {\n",
       "        text-align: right;\n",
       "    }\n",
       "</style>\n",
       "<table border=\"1\" class=\"dataframe\">\n",
       "  <thead>\n",
       "    <tr style=\"text-align: right;\">\n",
       "      <th></th>\n",
       "      <th>airline_sentiment</th>\n",
       "      <th>airline</th>\n",
       "      <th>retweet_count</th>\n",
       "      <th>text</th>\n",
       "      <th>tweet_location</th>\n",
       "      <th>user_timezone</th>\n",
       "    </tr>\n",
       "  </thead>\n",
       "  <tbody>\n",
       "    <tr>\n",
       "      <th>10975</th>\n",
       "      <td>neutral</td>\n",
       "      <td>American</td>\n",
       "      <td>0</td>\n",
       "      <td>@AmericanAir followback</td>\n",
       "      <td>ohio,panama</td>\n",
       "      <td>NaN</td>\n",
       "    </tr>\n",
       "    <tr>\n",
       "      <th>10976</th>\n",
       "      <td>positive</td>\n",
       "      <td>United</td>\n",
       "      <td>0</td>\n",
       "      <td>@united thanks for the help. Wish the phone re...</td>\n",
       "      <td>Brooklyn</td>\n",
       "      <td>Eastern Time (US &amp; Canada)</td>\n",
       "    </tr>\n",
       "    <tr>\n",
       "      <th>10977</th>\n",
       "      <td>negative</td>\n",
       "      <td>US Airways</td>\n",
       "      <td>0</td>\n",
       "      <td>@usairways the. Worst. Ever. #dca #customerser...</td>\n",
       "      <td>St. Augustine, Florida</td>\n",
       "      <td>NaN</td>\n",
       "    </tr>\n",
       "    <tr>\n",
       "      <th>10978</th>\n",
       "      <td>negative</td>\n",
       "      <td>US Airways</td>\n",
       "      <td>0</td>\n",
       "      <td>@nrhodes85: look! Another apology. DO NOT FLY ...</td>\n",
       "      <td>NaN</td>\n",
       "      <td>NaN</td>\n",
       "    </tr>\n",
       "    <tr>\n",
       "      <th>10979</th>\n",
       "      <td>negative</td>\n",
       "      <td>United</td>\n",
       "      <td>1</td>\n",
       "      <td>@united you are by far the worst airline. 4 pl...</td>\n",
       "      <td>NaN</td>\n",
       "      <td>NaN</td>\n",
       "    </tr>\n",
       "  </tbody>\n",
       "</table>\n",
       "</div>"
      ],
      "text/plain": [
       "      airline_sentiment     airline  retweet_count  \\\n",
       "10975           neutral    American              0   \n",
       "10976          positive      United              0   \n",
       "10977          negative  US Airways              0   \n",
       "10978          negative  US Airways              0   \n",
       "10979          negative      United              1   \n",
       "\n",
       "                                                    text  \\\n",
       "10975                            @AmericanAir followback   \n",
       "10976  @united thanks for the help. Wish the phone re...   \n",
       "10977  @usairways the. Worst. Ever. #dca #customerser...   \n",
       "10978  @nrhodes85: look! Another apology. DO NOT FLY ...   \n",
       "10979  @united you are by far the worst airline. 4 pl...   \n",
       "\n",
       "               tweet_location               user_timezone  \n",
       "10975             ohio,panama                         NaN  \n",
       "10976                Brooklyn  Eastern Time (US & Canada)  \n",
       "10977  St. Augustine, Florida                         NaN  \n",
       "10978                     NaN                         NaN  \n",
       "10979                     NaN                         NaN  "
      ]
     },
     "execution_count": 1,
     "metadata": {},
     "output_type": "execute_result"
    }
   ],
   "source": [
    "import pandas as pd;\n",
    "from collections import Counter;\n",
    "df=pd.read_csv(\"train_twitter.csv\");\n",
    "df1=pd.read_csv(\"test_twitter.csv\");\n",
    "df.head()\n",
    "df.drop([\"tweet_id\",\"airline_sentiment_gold\",\"negativereason_gold\",\"tweet_coord\",\"name\",\"tweet_created\"],axis=1,inplace=True)\n",
    "Counter(df[\"retweet_count\"])\n",
    "df.tail()"
   ]
  },
  {
   "cell_type": "markdown",
   "metadata": {},
   "source": [
    "# Time to visualise the data........."
   ]
  },
  {
   "cell_type": "code",
   "execution_count": 2,
   "metadata": {},
   "outputs": [],
   "source": [
    "import matplotlib.pyplot as plt;\n",
    "import seaborn as sns;\n",
    "from sklearn.model_selection import train_test_split;\n",
    "sns.set();"
   ]
  },
  {
   "cell_type": "code",
   "execution_count": 3,
   "metadata": {},
   "outputs": [],
   "source": [
    "def bar_graph(feature):\n",
    "    positive=df[df[\"airline_sentiment\"]==\"positive\"][feature].value_counts();\n",
    "    negative=df[df[\"airline_sentiment\"]==\"negative\"][feature].value_counts();\n",
    "    neutral=df[df[\"airline_sentiment\"]==\"neutral\"][feature].value_counts();\n",
    "    df1=pd.DataFrame([positive,negative,neutral]);\n",
    "    df1.index=[\"positive\",\"negative\",\"neutral\"];\n",
    "    df1.plot(kind=\"bar\",stacked=True);"
   ]
  },
  {
   "cell_type": "code",
   "execution_count": 4,
   "metadata": {},
   "outputs": [
    {
     "data": {
      "image/png": "[encoded data removed]",
      "text/plain": [
       "<Figure size 432x288 with 1 Axes>"
      ]
     },
     "metadata": {
      "needs_background": "light"
     },
     "output_type": "display_data"
    }
   ],
   "source": [
    "bar_graph(\"airline\")"
   ]
  },
  {
   "cell_type": "code",
   "execution_count": 5,
   "metadata": {},
   "outputs": [
    {
     "data": {
      "image/png": "[encoded data removed]",
      "text/plain": [
       "<Figure size 432x288 with 1 Axes>"
      ]
     },
     "metadata": {
      "needs_background": "light"
     },
     "output_type": "display_data"
    }
   ],
   "source": [
    "bar_graph(\"retweet_count\")"
   ]
  },
  {
   "cell_type": "markdown",
   "metadata": {},
   "source": [
    "# It seems that none of the other feature contrinuts to the positive or negative sentiment of the twitter and all feature except the tweet himself can be removed if needed...."
   ]
  },
  {
   "cell_type": "markdown",
   "metadata": {},
   "source": [
    "# Time to clean the input_data i.e. removing stopwords and cobining the words with same meaning and same context....."
   ]
  },
  {
   "cell_type": "code",
   "execution_count": 6,
   "metadata": {},
   "outputs": [],
   "source": [
    "from nltk.corpus import wordnet;\n",
    "def get_simple_pos(pos):\n",
    "    if(pos[0]=='J'):\n",
    "        return wordnet.ADJ;\n",
    "    elif(pos[0]=='V'):\n",
    "        return wordnet.VERB;\n",
    "    elif(pos[0]=='N'):\n",
    "        return wordnet.NOUN;\n",
    "    elif(pos[0]=='R'):\n",
    "        return wordnet.ADV;\n",
    "    else:\n",
    "        return wordnet.NOUN;"
   ]
  },
  {
   "cell_type": "code",
   "execution_count": 7,
   "metadata": {},
   "outputs": [],
   "source": [
    "def lemmatized_words(tweet):\n",
    "    pos=pos_tag(word_tokenize(tweet));\n",
    "    lemmatizer=WordNetLemmatizer();\n",
    "    pos=[(word,get_simple_pos(tag)) for word,tag in pos];\n",
    "    output_words=[lemmatizer.lemmatize(word,tag) for word,tag in pos];\n",
    "    return output_words;"
   ]
  },
  {
   "cell_type": "code",
   "execution_count": 8,
   "metadata": {},
   "outputs": [],
   "source": [
    "from nltk.corpus import stopwords;\n",
    "from nltk import pos_tag;\n",
    "from nltk.stem import WordNetLemmatizer;\n",
    "from nltk.tokenize import word_tokenize;\n",
    "import string;\n",
    "def remove_stop_words_and_clean_it(input_data):\n",
    "    stop_words=stopwords.words(\"english\");\n",
    "    stop_words+=list(string.punctuation);\n",
    "    input_data=[lemmatized_words(tweet) for tweet in input_data];\n",
    "    # now the input_data is no more a string it is a list if words......\n",
    "    returned_list=[];\n",
    "    for list_tweet in input_data:\n",
    "            returned_string=\"\";\n",
    "            for word in list_tweet:\n",
    "                if word not in stop_words:\n",
    "                    returned_string+=word+\" \";\n",
    "            returned_list.append(returned_string);\n",
    "    return returned_list;"
   ]
  },
  {
   "cell_type": "code",
   "execution_count": 9,
   "metadata": {},
   "outputs": [],
   "source": [
    "x_train=remove_stop_words_and_clean_it(list(df[\"text\"]));\n",
    "x_test=remove_stop_words_and_clean_it(list(df1[\"text\"]));\n",
    "y_train=list(df[\"airline_sentiment\"]);\n",
    "for i in range(0,len(y_train)):\n",
    "    if(y_train[i]==\"positive\"):\n",
    "        y_train[i]=0;\n",
    "    elif(y_train[i]==\"negative\"):\n",
    "        y_train[i]=1;\n",
    "    else:\n",
    "        y_train[i]=2;"
   ]
  },
  {
   "cell_type": "markdown",
   "metadata": {},
   "source": [
    "# Upto now we had cleaned the input and now we need to do train_test split and then use Count vectorizer ad then just need to use then inbuilt classifier..."
   ]
  },
  {
   "cell_type": "code",
   "execution_count": 12,
   "metadata": {},
   "outputs": [],
   "source": [
    "from sklearn.feature_extraction.text import CountVectorizer;\n",
    "Count_vec=CountVectorizer(max_features=4000);\n",
    "train_array=Count_vec.fit_transform(x_train);\n",
    "features=Count_vec.get_feature_names();\n",
    "test_array=Count_vec.transform(x_test);"
   ]
  },
  {
   "cell_type": "code",
   "execution_count": 13,
   "metadata": {},
   "outputs": [],
   "source": [
    "from sklearn.metrics import classification_report,confusion_matrix,accuracy_score\n",
    "import numpy as np;\n",
    "from sklearn.naive_bayes import MultinomialNB     # Import MultinomialDB from sklearn\n",
    "clf = MultinomialNB()                                       # Create object of MultinomialDB\n",
    "clf.fit(train_array, y_train)                           # Fit the training data                   \n",
    "y_pred = list(clf.predict(test_array))\n",
    "for i in range(0,len(y_pred)):\n",
    "    if(y_pred[i]==0):\n",
    "        y_pred[i]=\"positive\";\n",
    "    elif(y_pred[i]==1):\n",
    "        y_pred[i]=\"negative\"\n",
    "    else:\n",
    "        y_pred[i]=\"neutral\";\n",
    "import csv\n",
    "with open('twiiter_sentimental_analysis_output.csv', 'w', newline='') as file:\n",
    "    writer = csv.writer(file)\n",
    "    for i in y_pred:\n",
    "        writer.writerow({i});"
   ]
  }
 ],
 "metadata": {
  "kernelspec": {
   "display_name": "Python 3",
   "language": "python",
   "name": "python3"
  },
  "language_info": {
   "codemirror_mode": {
    "name": "ipython",
    "version": 3
   },
   "file_extension": ".py",
   "mimetype": "text/x-python",
   "name": "python",
   "nbconvert_exporter": "python",
   "pygments_lexer": "ipython3",
   "version": "3.7.3"
  }
 },
 "nbformat": 4,
 "nbformat_minor": 2
}
